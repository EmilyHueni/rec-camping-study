{
 "cells": [
  {
   "cell_type": "markdown",
   "id": "fbe3c87f",
   "metadata": {},
   "source": [
    "From raw rec.gov data, transform files to final working form for understanding max capacity of rec facilities that are for camping."
   ]
  },
  {
   "cell_type": "code",
   "execution_count": 1,
   "id": "a35dc543",
   "metadata": {},
   "outputs": [],
   "source": [
    "from dask import delayed\n",
    "from dask import compute"
   ]
  },
  {
   "cell_type": "code",
   "execution_count": 2,
   "id": "b45950b4-2854-4ad0-80de-a6b4471460a8",
   "metadata": {},
   "outputs": [],
   "source": [
    "import swifter"
   ]
  },
  {
   "cell_type": "code",
   "execution_count": 3,
   "id": "54e9c96d",
   "metadata": {},
   "outputs": [],
   "source": [
    "import boto3\n",
    "import os\n",
    "import pandas as pd\n",
    "import dask.dataframe as dd"
   ]
  },
  {
   "cell_type": "markdown",
   "id": "87fb92cf-e42d-4245-a463-276d295b8aa8",
   "metadata": {},
   "source": [
    "set up dask client"
   ]
  },
  {
   "cell_type": "code",
   "execution_count": 2,
   "id": "23b83ec6-0633-4140-9e96-712374bed5b7",
   "metadata": {},
   "outputs": [
    {
     "data": {
      "text/html": [
       "<table style=\"border: 2px solid white;\">\n",
       "<tr>\n",
       "<td style=\"vertical-align: top; border: 0px solid white\">\n",
       "<h3 style=\"text-align: left;\">Client</h3>\n",
       "<ul style=\"text-align: left; list-style: none; margin: 0; padding: 0;\">\n",
       "  <li><b>Scheduler: </b>tcp://127.0.0.1:38797</li>\n",
       "  <li><b>Dashboard: </b><a href='http://127.0.0.1:8787/status' target='_blank'>http://127.0.0.1:8787/status</a></li>\n",
       "</ul>\n",
       "</td>\n",
       "<td style=\"vertical-align: top; border: 0px solid white\">\n",
       "<h3 style=\"text-align: left;\">Cluster</h3>\n",
       "<ul style=\"text-align: left; list-style:none; margin: 0; padding: 0;\">\n",
       "  <li><b>Workers: </b>4</li>\n",
       "  <li><b>Cores: </b>8</li>\n",
       "  <li><b>Memory: </b>18.68 GiB</li>\n",
       "</ul>\n",
       "</td>\n",
       "</tr>\n",
       "</table>"
      ],
      "text/plain": [
       "<Client: 'tcp://127.0.0.1:38797' processes=4 threads=8, memory=18.68 GiB>"
      ]
     },
     "execution_count": 2,
     "metadata": {},
     "output_type": "execute_result"
    }
   ],
   "source": [
    "from dask.distributed import Client, progress\n",
    "client = Client()\n",
    "client"
   ]
  },
  {
   "cell_type": "markdown",
   "id": "463981dc",
   "metadata": {},
   "source": [
    "set up the aws connection"
   ]
  },
  {
   "cell_type": "code",
   "execution_count": 4,
   "id": "e26ddf95",
   "metadata": {},
   "outputs": [],
   "source": [
    "s3 = boto3.client(\"s3\")\n",
    "\n",
    "bucket = 'rec-gov-study'"
   ]
  },
  {
   "cell_type": "markdown",
   "id": "5687b2e1",
   "metadata": {},
   "source": [
    "upload the raw data to an s3 bucket"
   ]
  },
  {
   "cell_type": "code",
   "execution_count": 5,
   "id": "2c6c6515",
   "metadata": {},
   "outputs": [
    {
     "name": "stdout",
     "output_type": "stream",
     "text": [
      "CPU times: user 3 µs, sys: 1 µs, total: 4 µs\n",
      "Wall time: 4.77 µs\n"
     ]
    }
   ],
   "source": [
    "%%time\n",
    "Campsites_API_file = '../data/Campsites_API_v1.csv'\n",
    "#s3.upload_file(Campsites_API_file, bucket, Campsites_API_file)"
   ]
  },
  {
   "cell_type": "code",
   "execution_count": 6,
   "id": "cc603f15",
   "metadata": {},
   "outputs": [
    {
     "name": "stdout",
     "output_type": "stream",
     "text": [
      "CPU times: user 0 ns, sys: 2 µs, total: 2 µs\n",
      "Wall time: 5.25 µs\n"
     ]
    }
   ],
   "source": [
    "%%time\n",
    "fy20_historical_reservations_file = '../data/fy20_historical_reservations_full.csv'\n",
    "#s3.upload_file(fy20_historical_reservations_file, bucket, fy20_historical_reservations_file)"
   ]
  },
  {
   "cell_type": "markdown",
   "id": "89993e70",
   "metadata": {},
   "source": [
    "considering how long it takes to retrieve the full raw data from s3, work locally to create the main files to work with"
   ]
  },
  {
   "cell_type": "code",
   "execution_count": null,
   "id": "98684dc3",
   "metadata": {},
   "outputs": [],
   "source": [
    "%%time\n",
    "boto_object = s3.get_object(Bucket=bucket, Key=file)\n",
    "pd.read_csv(boto_object['Body'], nrows=300000)"
   ]
  },
  {
   "cell_type": "markdown",
   "id": "62c3dd4b",
   "metadata": {},
   "source": [
    "load files and convert the dates to the correct data type (coercing when necessary)"
   ]
  },
  {
   "cell_type": "code",
   "execution_count": 7,
   "id": "b9c962a7",
   "metadata": {},
   "outputs": [
    {
     "name": "stderr",
     "output_type": "stream",
     "text": [
      "/opt/conda/lib/python3.8/site-packages/IPython/core/interactiveshell.py:3165: DtypeWarning: Columns (5,6,7,11,12,13,15,17,35) have mixed types.Specify dtype option on import or set low_memory=False.\n",
      "  has_raised = await self.run_ast_nodes(code_ast.body, cell_name,\n"
     ]
    }
   ],
   "source": [
    "date_cols = ['startdate', 'enddate', 'orderdate']\n",
    "\n",
    "df_all_res = pd.read_csv(fy20_historical_reservations_file, parse_dates=date_cols)\n",
    "df_campsite_api = pd.read_csv(Campsites_API_file)"
   ]
  },
  {
   "cell_type": "code",
   "execution_count": 8,
   "id": "3087e12b",
   "metadata": {},
   "outputs": [],
   "source": [
    "df_all_res['enddate'] = pd.to_datetime(df_all_res['enddate'], errors='coerce')"
   ]
  },
  {
   "cell_type": "code",
   "execution_count": 9,
   "id": "02fb3edd",
   "metadata": {},
   "outputs": [
    {
     "name": "stdout",
     "output_type": "stream",
     "text": [
      "<class 'pandas.core.frame.DataFrame'>\n",
      "RangeIndex: 5114789 entries, 0 to 5114788\n",
      "Data columns (total 37 columns):\n",
      " #   Column                   Dtype         \n",
      "---  ------                   -----         \n",
      " 0   historicalreservationid  object        \n",
      " 1   ordernumber              object        \n",
      " 2   agency                   object        \n",
      " 3   orgid                    int64         \n",
      " 4   codehierarchy            object        \n",
      " 5   regioncode               object        \n",
      " 6   regiondescription        object        \n",
      " 7   parentlocationid         object        \n",
      " 8   parentlocation           object        \n",
      " 9   legacyfacilityid         float64       \n",
      " 10  park                     object        \n",
      " 11  sitetype                 object        \n",
      " 12  usetype                  object        \n",
      " 13  productid                object        \n",
      " 14  inventorytype            object        \n",
      " 15  facilityid               object        \n",
      " 16  facilityzip              float64       \n",
      " 17  facilitystate            object        \n",
      " 18  facilitylongitude        float64       \n",
      " 19  facilitylatitude         float64       \n",
      " 20  customerzip              object        \n",
      " 21  customerstate            object        \n",
      " 22  customercountry          object        \n",
      " 23  tax                      float64       \n",
      " 24  usefee                   float64       \n",
      " 25  tranfee                  float64       \n",
      " 26  attrfee                  float64       \n",
      " 27  totalbeforetax           float64       \n",
      " 28  discount                 float64       \n",
      " 29  totalpaid                float64       \n",
      " 30  startdate                datetime64[ns]\n",
      " 31  enddate                  datetime64[ns]\n",
      " 32  orderdate                datetime64[ns]\n",
      " 33  nights                   object        \n",
      " 34  numberofpeople           float64       \n",
      " 35  equipmentdescription     object        \n",
      " 36  equipmentlength          float64       \n",
      "dtypes: datetime64[ns](3), float64(13), int64(1), object(20)\n",
      "memory usage: 1.4+ GB\n"
     ]
    }
   ],
   "source": [
    "df_all_res.info()"
   ]
  },
  {
   "cell_type": "code",
   "execution_count": 10,
   "id": "6d3f8cb3",
   "metadata": {},
   "outputs": [
    {
     "data": {
      "text/plain": [
       "Index(['historicalreservationid', 'ordernumber', 'agency', 'orgid',\n",
       "       'codehierarchy', 'regioncode', 'regiondescription', 'parentlocationid',\n",
       "       'parentlocation', 'legacyfacilityid', 'park', 'sitetype', 'usetype',\n",
       "       'productid', 'inventorytype', 'facilityid', 'facilityzip',\n",
       "       'facilitystate', 'facilitylongitude', 'facilitylatitude', 'customerzip',\n",
       "       'customerstate', 'customercountry', 'tax', 'usefee', 'tranfee',\n",
       "       'attrfee', 'totalbeforetax', 'discount', 'totalpaid', 'startdate',\n",
       "       'enddate', 'orderdate', 'nights', 'numberofpeople',\n",
       "       'equipmentdescription', 'equipmentlength'],\n",
       "      dtype='object')"
      ]
     },
     "execution_count": 10,
     "metadata": {},
     "output_type": "execute_result"
    }
   ],
   "source": [
    "df_all_res.columns"
   ]
  },
  {
   "cell_type": "markdown",
   "id": "0ba85b73",
   "metadata": {},
   "source": [
    "looking at the campsite api, how many campsites are at each facility"
   ]
  },
  {
   "cell_type": "code",
   "execution_count": 11,
   "id": "e54962fd",
   "metadata": {},
   "outputs": [],
   "source": [
    "df_facility_max = df_campsite_api.groupby('FacilityID')['CampsiteID'].count().reset_index()\n",
    "df_facility_max.columns = ['facilityid', 'total_num_campsites']"
   ]
  },
  {
   "cell_type": "code",
   "execution_count": 12,
   "id": "6949e133",
   "metadata": {},
   "outputs": [
    {
     "data": {
      "text/html": [
       "<div>\n",
       "<style scoped>\n",
       "    .dataframe tbody tr th:only-of-type {\n",
       "        vertical-align: middle;\n",
       "    }\n",
       "\n",
       "    .dataframe tbody tr th {\n",
       "        vertical-align: top;\n",
       "    }\n",
       "\n",
       "    .dataframe thead th {\n",
       "        text-align: right;\n",
       "    }\n",
       "</style>\n",
       "<table border=\"1\" class=\"dataframe\">\n",
       "  <thead>\n",
       "    <tr style=\"text-align: right;\">\n",
       "      <th></th>\n",
       "      <th>facilityid</th>\n",
       "      <th>total_num_campsites</th>\n",
       "    </tr>\n",
       "  </thead>\n",
       "  <tbody>\n",
       "    <tr>\n",
       "      <th>0</th>\n",
       "      <td>72417</td>\n",
       "      <td>15</td>\n",
       "    </tr>\n",
       "    <tr>\n",
       "      <th>1</th>\n",
       "      <td>72481</td>\n",
       "      <td>1</td>\n",
       "    </tr>\n",
       "    <tr>\n",
       "      <th>2</th>\n",
       "      <td>118290</td>\n",
       "      <td>15</td>\n",
       "    </tr>\n",
       "    <tr>\n",
       "      <th>3</th>\n",
       "      <td>118440</td>\n",
       "      <td>28</td>\n",
       "    </tr>\n",
       "    <tr>\n",
       "      <th>4</th>\n",
       "      <td>118990</td>\n",
       "      <td>1</td>\n",
       "    </tr>\n",
       "  </tbody>\n",
       "</table>\n",
       "</div>"
      ],
      "text/plain": [
       "   facilityid  total_num_campsites\n",
       "0       72417                   15\n",
       "1       72481                    1\n",
       "2      118290                   15\n",
       "3      118440                   28\n",
       "4      118990                    1"
      ]
     },
     "execution_count": 12,
     "metadata": {},
     "output_type": "execute_result"
    }
   ],
   "source": [
    "df_facility_max.head()"
   ]
  },
  {
   "cell_type": "markdown",
   "id": "1ea56c92",
   "metadata": {},
   "source": [
    "Identify what reservations are campsite related based on facility ID?\n",
    "\n",
    "Could facility ID indicate more than just a campsite (does this join need to be done on facility id and sitetype?)"
   ]
  },
  {
   "cell_type": "code",
   "execution_count": 13,
   "id": "565f6b60",
   "metadata": {},
   "outputs": [],
   "source": [
    "df_merge_all_data = pd.merge(df_all_res, df_facility_max, on='facilityid', how='left')"
   ]
  },
  {
   "cell_type": "markdown",
   "id": "c78a0d79",
   "metadata": {},
   "source": [
    "identify the number of reservations associated with campsites with the reservation records"
   ]
  },
  {
   "cell_type": "code",
   "execution_count": 14,
   "id": "be1f7521",
   "metadata": {},
   "outputs": [],
   "source": [
    "df_merge_all_data['campsite'] = ~df_merge_all_data['total_num_campsites'].isnull()"
   ]
  },
  {
   "cell_type": "code",
   "execution_count": 15,
   "id": "e9c2602e",
   "metadata": {
    "scrolled": true
   },
   "outputs": [
    {
     "data": {
      "text/html": [
       "<div>\n",
       "<style scoped>\n",
       "    .dataframe tbody tr th:only-of-type {\n",
       "        vertical-align: middle;\n",
       "    }\n",
       "\n",
       "    .dataframe tbody tr th {\n",
       "        vertical-align: top;\n",
       "    }\n",
       "\n",
       "    .dataframe thead th {\n",
       "        text-align: right;\n",
       "    }\n",
       "</style>\n",
       "<table border=\"1\" class=\"dataframe\">\n",
       "  <thead>\n",
       "    <tr style=\"text-align: right;\">\n",
       "      <th></th>\n",
       "      <th>historicalreservationid</th>\n",
       "      <th>ordernumber</th>\n",
       "      <th>agency</th>\n",
       "      <th>orgid</th>\n",
       "      <th>codehierarchy</th>\n",
       "      <th>regioncode</th>\n",
       "      <th>regiondescription</th>\n",
       "      <th>parentlocationid</th>\n",
       "      <th>parentlocation</th>\n",
       "      <th>legacyfacilityid</th>\n",
       "      <th>...</th>\n",
       "      <th>totalpaid</th>\n",
       "      <th>startdate</th>\n",
       "      <th>enddate</th>\n",
       "      <th>orderdate</th>\n",
       "      <th>nights</th>\n",
       "      <th>numberofpeople</th>\n",
       "      <th>equipmentdescription</th>\n",
       "      <th>equipmentlength</th>\n",
       "      <th>total_num_campsites</th>\n",
       "      <th>campsite</th>\n",
       "    </tr>\n",
       "  </thead>\n",
       "  <tbody>\n",
       "    <tr>\n",
       "      <th>0</th>\n",
       "      <td>fa50401c-f08a-4738-b576-56335cc19cb7</td>\n",
       "      <td>0121072064-1</td>\n",
       "      <td>BLM</td>\n",
       "      <td>126</td>\n",
       "      <td>|1|70901|72193|72194|146090</td>\n",
       "      <td>AK</td>\n",
       "      <td>Alaska (BLM)</td>\n",
       "      <td>72195</td>\n",
       "      <td>White Mountains National Recreation Area</td>\n",
       "      <td>146090.0</td>\n",
       "      <td>...</td>\n",
       "      <td>33.0</td>\n",
       "      <td>2019-10-17</td>\n",
       "      <td>2019-10-18</td>\n",
       "      <td>2019-09-18 16:25:42.280</td>\n",
       "      <td>1 day</td>\n",
       "      <td>6.0</td>\n",
       "      <td>NaN</td>\n",
       "      <td>0.0</td>\n",
       "      <td>14.0</td>\n",
       "      <td>True</td>\n",
       "    </tr>\n",
       "    <tr>\n",
       "      <th>1</th>\n",
       "      <td>09c37303-cf15-49d9-9b0c-ccc120328bbb</td>\n",
       "      <td>0200063847-1</td>\n",
       "      <td>BLM</td>\n",
       "      <td>126</td>\n",
       "      <td>|1|70901|72193|72194|146090</td>\n",
       "      <td>AK</td>\n",
       "      <td>Alaska (BLM)</td>\n",
       "      <td>72195</td>\n",
       "      <td>White Mountains National Recreation Area</td>\n",
       "      <td>146090.0</td>\n",
       "      <td>...</td>\n",
       "      <td>33.0</td>\n",
       "      <td>2020-04-11</td>\n",
       "      <td>2020-04-12</td>\n",
       "      <td>2020-03-13 16:35:11.612</td>\n",
       "      <td>1 day</td>\n",
       "      <td>1.0</td>\n",
       "      <td>NaN</td>\n",
       "      <td>0.0</td>\n",
       "      <td>14.0</td>\n",
       "      <td>True</td>\n",
       "    </tr>\n",
       "    <tr>\n",
       "      <th>2</th>\n",
       "      <td>f1f5c841-46b1-4ff8-a6dc-fcac2e76ae1c</td>\n",
       "      <td>0200087454-1</td>\n",
       "      <td>BLM</td>\n",
       "      <td>126</td>\n",
       "      <td>|1|70901|72193|72194|146090</td>\n",
       "      <td>AK</td>\n",
       "      <td>Alaska (BLM)</td>\n",
       "      <td>72195</td>\n",
       "      <td>White Mountains National Recreation Area</td>\n",
       "      <td>146090.0</td>\n",
       "      <td>...</td>\n",
       "      <td>83.0</td>\n",
       "      <td>2020-09-07</td>\n",
       "      <td>2020-09-10</td>\n",
       "      <td>2020-08-17 05:19:08.159</td>\n",
       "      <td>3 days</td>\n",
       "      <td>2.0</td>\n",
       "      <td>NaN</td>\n",
       "      <td>0.0</td>\n",
       "      <td>14.0</td>\n",
       "      <td>True</td>\n",
       "    </tr>\n",
       "    <tr>\n",
       "      <th>3</th>\n",
       "      <td>619f4394-1cac-4a64-8f0c-eae6e7f6bf3b</td>\n",
       "      <td>0200102788-1</td>\n",
       "      <td>BLM</td>\n",
       "      <td>126</td>\n",
       "      <td>|1|70901|72193|72194|146090</td>\n",
       "      <td>AK</td>\n",
       "      <td>Alaska (BLM)</td>\n",
       "      <td>72195</td>\n",
       "      <td>White Mountains National Recreation Area</td>\n",
       "      <td>146090.0</td>\n",
       "      <td>...</td>\n",
       "      <td>33.0</td>\n",
       "      <td>2020-03-21</td>\n",
       "      <td>2020-03-22</td>\n",
       "      <td>2020-02-20 15:01:33.904</td>\n",
       "      <td>1 day</td>\n",
       "      <td>3.0</td>\n",
       "      <td>NaN</td>\n",
       "      <td>0.0</td>\n",
       "      <td>14.0</td>\n",
       "      <td>True</td>\n",
       "    </tr>\n",
       "    <tr>\n",
       "      <th>4</th>\n",
       "      <td>82674243-7f31-41e6-b3db-d0690513cad3</td>\n",
       "      <td>0200147542-1</td>\n",
       "      <td>BLM</td>\n",
       "      <td>126</td>\n",
       "      <td>|1|70901|72193|72194|146090</td>\n",
       "      <td>AK</td>\n",
       "      <td>Alaska (BLM)</td>\n",
       "      <td>72195</td>\n",
       "      <td>White Mountains National Recreation Area</td>\n",
       "      <td>146090.0</td>\n",
       "      <td>...</td>\n",
       "      <td>0.0</td>\n",
       "      <td>2019-12-07</td>\n",
       "      <td>2019-12-08</td>\n",
       "      <td>2019-11-07 17:54:01.448</td>\n",
       "      <td>1 day</td>\n",
       "      <td>2.0</td>\n",
       "      <td>NaN</td>\n",
       "      <td>0.0</td>\n",
       "      <td>14.0</td>\n",
       "      <td>True</td>\n",
       "    </tr>\n",
       "  </tbody>\n",
       "</table>\n",
       "<p>5 rows × 39 columns</p>\n",
       "</div>"
      ],
      "text/plain": [
       "                historicalreservationid   ordernumber agency  orgid  \\\n",
       "0  fa50401c-f08a-4738-b576-56335cc19cb7  0121072064-1    BLM    126   \n",
       "1  09c37303-cf15-49d9-9b0c-ccc120328bbb  0200063847-1    BLM    126   \n",
       "2  f1f5c841-46b1-4ff8-a6dc-fcac2e76ae1c  0200087454-1    BLM    126   \n",
       "3  619f4394-1cac-4a64-8f0c-eae6e7f6bf3b  0200102788-1    BLM    126   \n",
       "4  82674243-7f31-41e6-b3db-d0690513cad3  0200147542-1    BLM    126   \n",
       "\n",
       "                 codehierarchy regioncode regiondescription parentlocationid  \\\n",
       "0  |1|70901|72193|72194|146090         AK      Alaska (BLM)            72195   \n",
       "1  |1|70901|72193|72194|146090         AK      Alaska (BLM)            72195   \n",
       "2  |1|70901|72193|72194|146090         AK      Alaska (BLM)            72195   \n",
       "3  |1|70901|72193|72194|146090         AK      Alaska (BLM)            72195   \n",
       "4  |1|70901|72193|72194|146090         AK      Alaska (BLM)            72195   \n",
       "\n",
       "                             parentlocation  legacyfacilityid  ... totalpaid  \\\n",
       "0  White Mountains National Recreation Area          146090.0  ...      33.0   \n",
       "1  White Mountains National Recreation Area          146090.0  ...      33.0   \n",
       "2  White Mountains National Recreation Area          146090.0  ...      83.0   \n",
       "3  White Mountains National Recreation Area          146090.0  ...      33.0   \n",
       "4  White Mountains National Recreation Area          146090.0  ...       0.0   \n",
       "\n",
       "   startdate    enddate               orderdate  nights numberofpeople  \\\n",
       "0 2019-10-17 2019-10-18 2019-09-18 16:25:42.280   1 day            6.0   \n",
       "1 2020-04-11 2020-04-12 2020-03-13 16:35:11.612   1 day            1.0   \n",
       "2 2020-09-07 2020-09-10 2020-08-17 05:19:08.159  3 days            2.0   \n",
       "3 2020-03-21 2020-03-22 2020-02-20 15:01:33.904   1 day            3.0   \n",
       "4 2019-12-07 2019-12-08 2019-11-07 17:54:01.448   1 day            2.0   \n",
       "\n",
       "   equipmentdescription equipmentlength  total_num_campsites  campsite  \n",
       "0                   NaN             0.0                 14.0      True  \n",
       "1                   NaN             0.0                 14.0      True  \n",
       "2                   NaN             0.0                 14.0      True  \n",
       "3                   NaN             0.0                 14.0      True  \n",
       "4                   NaN             0.0                 14.0      True  \n",
       "\n",
       "[5 rows x 39 columns]"
      ]
     },
     "execution_count": 15,
     "metadata": {},
     "output_type": "execute_result"
    }
   ],
   "source": [
    "df_merge_all_data.head()"
   ]
  },
  {
   "cell_type": "markdown",
   "id": "9a0355e6-aa6b-4138-bd2f-00e5520c8cfb",
   "metadata": {},
   "source": [
    "create a dataframe of only camping reservations\n",
    "\n",
    "select the unique for facililty id, product id, start date, end date, take most recent order date"
   ]
  },
  {
   "cell_type": "code",
   "execution_count": 16,
   "id": "4697b7b6-5e27-4fbe-b635-9e8d290cf963",
   "metadata": {},
   "outputs": [],
   "source": [
    "df_merge_all_data_camping = df_merge_all_data[df_merge_all_data['campsite']][['facilityid', 'productid', 'startdate', 'enddate', 'orderdate']]"
   ]
  },
  {
   "cell_type": "code",
   "execution_count": 17,
   "id": "d0304d31-8dd1-4571-9592-d952c927e862",
   "metadata": {},
   "outputs": [
    {
     "name": "stdout",
     "output_type": "stream",
     "text": [
      "<class 'pandas.core.frame.DataFrame'>\n",
      "Int64Index: 3270375 entries, 0 to 5107392\n",
      "Data columns (total 5 columns):\n",
      " #   Column      Dtype         \n",
      "---  ------      -----         \n",
      " 0   facilityid  object        \n",
      " 1   productid   object        \n",
      " 2   startdate   datetime64[ns]\n",
      " 3   enddate     datetime64[ns]\n",
      " 4   orderdate   datetime64[ns]\n",
      "dtypes: datetime64[ns](3), object(2)\n",
      "memory usage: 149.7+ MB\n"
     ]
    }
   ],
   "source": [
    "df_merge_all_data_camping.info()"
   ]
  },
  {
   "cell_type": "code",
   "execution_count": 18,
   "id": "02cb5c60-9f01-43c8-83fb-38e3efd4383b",
   "metadata": {},
   "outputs": [
    {
     "name": "stdout",
     "output_type": "stream",
     "text": [
      "CPU times: user 5min 11s, sys: 332 ms, total: 5min 11s\n",
      "Wall time: 5min 11s\n"
     ]
    }
   ],
   "source": [
    "%%time\n",
    "df_merge_all_data_camping_unique = df_merge_all_data_camping.groupby(['facilityid', 'productid', 'startdate', 'enddate']).max('orderdate')"
   ]
  },
  {
   "cell_type": "code",
   "execution_count": 19,
   "id": "bda6bfed-0f0f-416e-84ce-9ec289930a07",
   "metadata": {},
   "outputs": [],
   "source": [
    "df_merge_all_data_camping_unique.reset_index(inplace=True)"
   ]
  },
  {
   "cell_type": "code",
   "execution_count": 20,
   "id": "7c74fcdd-489e-4f2c-a86b-18b485f2a940",
   "metadata": {},
   "outputs": [
    {
     "name": "stdout",
     "output_type": "stream",
     "text": [
      "<class 'pandas.core.frame.DataFrame'>\n",
      "RangeIndex: 3086689 entries, 0 to 3086688\n",
      "Data columns (total 5 columns):\n",
      " #   Column      Dtype         \n",
      "---  ------      -----         \n",
      " 0   facilityid  int64         \n",
      " 1   productid   int64         \n",
      " 2   startdate   datetime64[ns]\n",
      " 3   enddate     datetime64[ns]\n",
      " 4   orderdate   datetime64[ns]\n",
      "dtypes: datetime64[ns](3), int64(2)\n",
      "memory usage: 117.7 MB\n"
     ]
    }
   ],
   "source": [
    "df_merge_all_data_camping_unique.info()"
   ]
  },
  {
   "cell_type": "code",
   "execution_count": 22,
   "id": "4723d3d0-c187-4cd7-af96-2e52645edc10",
   "metadata": {},
   "outputs": [],
   "source": [
    "file = '../data/df_merge_all_data_camping_unique_facil_start_end.csv'\n",
    "s3_file = 'data/df_merge_all_data_camping_unique_facil_start_end.csv'\n",
    "df_merge_all_data_camping_unique.to_csv(file)\n",
    "\n",
    "s3.upload_file(file, bucket, s3_file)"
   ]
  },
  {
   "cell_type": "markdown",
   "id": "52023324",
   "metadata": {},
   "source": [
    "For each record calculate if it was a likely cancelation based on if the product id was booked again at a later date for the same start range (or any part of that date range)\n",
    "\n",
    "the following does not work because it is too big of a dataset. Ran for over a day without output. "
   ]
  },
  {
   "cell_type": "code",
   "execution_count": 91,
   "id": "20473fa1",
   "metadata": {},
   "outputs": [],
   "source": [
    "\n",
    "def reservations_likely_canceled(row):\n",
    "    '''if there is another reservation made at a later date that has the same facility and \n",
    "    productuctid and is within the same reservation date block (between start and end) then \n",
    "    consider this one to be a likely canceled one.'''\n",
    "    \n",
    "    \n",
    "    facil = row['facilityid']\n",
    "    campsite = row['productid']\n",
    "    sdate = row['startdate']\n",
    "    edate = row['enddate']\n",
    "    odate = row['orderdate']\n",
    "    \n",
    "    \n",
    "    #select all rows where the start date is after and facil and campsite number are the same\n",
    "    #(StartA <= EndB) and (EndA >= StartB)\n",
    "    df_other_res = df_merge_all_data_camping_unique[(df_merge_all_data_camping_unique['facilityid']==facil) & \n",
    "                  (df_merge_all_data_camping_unique['productid']==campsite) & \n",
    "                  (df_merge_all_data_camping_unique['startdate']<=edate) &\n",
    "                  (df_merge_all_data_camping_unique['enddate']>=sdate) &\n",
    "                  (df_merge_all_data_camping_unique['orderdate']>odate)]\n",
    "    \n",
    "    if df_other_res.empty:\n",
    "        return False\n",
    "    else:\n",
    "        return True\n",
    "    \n"
   ]
  },
  {
   "cell_type": "code",
   "execution_count": 92,
   "id": "5fc7c615-537e-4bea-9832-664584c3c6c2",
   "metadata": {},
   "outputs": [
    {
     "data": {
      "application/vnd.jupyter.widget-view+json": {
       "model_id": "bc17d873cb904df7b5ca25bb1b23242c",
       "version_major": 2,
       "version_minor": 0
      },
      "text/plain": [
       "Dask Apply:   0%|          | 0/16 [00:00<?, ?it/s]"
      ]
     },
     "metadata": {},
     "output_type": "display_data"
    },
    {
     "ename": "KeyboardInterrupt",
     "evalue": "",
     "output_type": "error",
     "traceback": [
      "\u001b[0;31m---------------------------------------------------------------------------\u001b[0m",
      "\u001b[0;31mValueError\u001b[0m                                Traceback (most recent call last)",
      "\u001b[0;32m/opt/conda/lib/python3.8/site-packages/swifter/swifter.py\u001b[0m in \u001b[0;36mapply\u001b[0;34m(self, func, axis, raw, result_type, args, **kwds)\u001b[0m\n\u001b[1;32m    339\u001b[0m             \u001b[0;32mwith\u001b[0m \u001b[0msuppress_stdout_stderr_logging\u001b[0m\u001b[0;34m(\u001b[0m\u001b[0;34m)\u001b[0m\u001b[0;34m:\u001b[0m\u001b[0;34m\u001b[0m\u001b[0;34m\u001b[0m\u001b[0m\n\u001b[0;32m--> 340\u001b[0;31m                 \u001b[0mtmp_df\u001b[0m \u001b[0;34m=\u001b[0m \u001b[0mfunc\u001b[0m\u001b[0;34m(\u001b[0m\u001b[0msample\u001b[0m\u001b[0;34m,\u001b[0m \u001b[0;34m*\u001b[0m\u001b[0margs\u001b[0m\u001b[0;34m,\u001b[0m \u001b[0;34m**\u001b[0m\u001b[0mkwds\u001b[0m\u001b[0;34m)\u001b[0m\u001b[0;34m\u001b[0m\u001b[0;34m\u001b[0m\u001b[0m\n\u001b[0m\u001b[1;32m    341\u001b[0m                 \u001b[0msample_df\u001b[0m \u001b[0;34m=\u001b[0m \u001b[0msample\u001b[0m\u001b[0;34m.\u001b[0m\u001b[0mapply\u001b[0m\u001b[0;34m(\u001b[0m\u001b[0mfunc\u001b[0m\u001b[0;34m,\u001b[0m \u001b[0maxis\u001b[0m\u001b[0;34m=\u001b[0m\u001b[0maxis\u001b[0m\u001b[0;34m,\u001b[0m \u001b[0mraw\u001b[0m\u001b[0;34m=\u001b[0m\u001b[0mraw\u001b[0m\u001b[0;34m,\u001b[0m \u001b[0mresult_type\u001b[0m\u001b[0;34m=\u001b[0m\u001b[0mresult_type\u001b[0m\u001b[0;34m,\u001b[0m \u001b[0margs\u001b[0m\u001b[0;34m=\u001b[0m\u001b[0margs\u001b[0m\u001b[0;34m,\u001b[0m \u001b[0;34m**\u001b[0m\u001b[0mkwds\u001b[0m\u001b[0;34m)\u001b[0m\u001b[0;34m\u001b[0m\u001b[0;34m\u001b[0m\u001b[0m\n",
      "\u001b[0;32m<ipython-input-91-b92b9b127158>\u001b[0m in \u001b[0;36mreservations_likely_canceled\u001b[0;34m(row)\u001b[0m\n\u001b[1;32m     15\u001b[0m     \u001b[0;31m#(StartA <= EndB) and (EndA >= StartB)\u001b[0m\u001b[0;34m\u001b[0m\u001b[0;34m\u001b[0m\u001b[0;34m\u001b[0m\u001b[0m\n\u001b[0;32m---> 16\u001b[0;31m     df_other_res = df_merge_all_data_camping_unique[(df_merge_all_data_camping_unique['facilityid']==facil) & \n\u001b[0m\u001b[1;32m     17\u001b[0m                   \u001b[0;34m(\u001b[0m\u001b[0mdf_merge_all_data_camping_unique\u001b[0m\u001b[0;34m[\u001b[0m\u001b[0;34m'productid'\u001b[0m\u001b[0;34m]\u001b[0m\u001b[0;34m==\u001b[0m\u001b[0mcampsite\u001b[0m\u001b[0;34m)\u001b[0m \u001b[0;34m&\u001b[0m\u001b[0;34m\u001b[0m\u001b[0;34m\u001b[0m\u001b[0m\n",
      "\u001b[0;32m/opt/conda/lib/python3.8/site-packages/pandas/core/ops/common.py\u001b[0m in \u001b[0;36mnew_method\u001b[0;34m(self, other)\u001b[0m\n\u001b[1;32m     64\u001b[0m \u001b[0;34m\u001b[0m\u001b[0m\n\u001b[0;32m---> 65\u001b[0;31m         \u001b[0;32mreturn\u001b[0m \u001b[0mmethod\u001b[0m\u001b[0;34m(\u001b[0m\u001b[0mself\u001b[0m\u001b[0;34m,\u001b[0m \u001b[0mother\u001b[0m\u001b[0;34m)\u001b[0m\u001b[0;34m\u001b[0m\u001b[0;34m\u001b[0m\u001b[0m\n\u001b[0m\u001b[1;32m     66\u001b[0m \u001b[0;34m\u001b[0m\u001b[0m\n",
      "\u001b[0;32m/opt/conda/lib/python3.8/site-packages/pandas/core/arraylike.py\u001b[0m in \u001b[0;36m__eq__\u001b[0;34m(self, other)\u001b[0m\n\u001b[1;32m     28\u001b[0m     \u001b[0;32mdef\u001b[0m \u001b[0m__eq__\u001b[0m\u001b[0;34m(\u001b[0m\u001b[0mself\u001b[0m\u001b[0;34m,\u001b[0m \u001b[0mother\u001b[0m\u001b[0;34m)\u001b[0m\u001b[0;34m:\u001b[0m\u001b[0;34m\u001b[0m\u001b[0;34m\u001b[0m\u001b[0m\n\u001b[0;32m---> 29\u001b[0;31m         \u001b[0;32mreturn\u001b[0m \u001b[0mself\u001b[0m\u001b[0;34m.\u001b[0m\u001b[0m_cmp_method\u001b[0m\u001b[0;34m(\u001b[0m\u001b[0mother\u001b[0m\u001b[0;34m,\u001b[0m \u001b[0moperator\u001b[0m\u001b[0;34m.\u001b[0m\u001b[0meq\u001b[0m\u001b[0;34m)\u001b[0m\u001b[0;34m\u001b[0m\u001b[0;34m\u001b[0m\u001b[0m\n\u001b[0m\u001b[1;32m     30\u001b[0m \u001b[0;34m\u001b[0m\u001b[0m\n",
      "\u001b[0;32m/opt/conda/lib/python3.8/site-packages/pandas/core/series.py\u001b[0m in \u001b[0;36m_cmp_method\u001b[0;34m(self, other, op)\u001b[0m\n\u001b[1;32m   4972\u001b[0m         \u001b[0;32mif\u001b[0m \u001b[0misinstance\u001b[0m\u001b[0;34m(\u001b[0m\u001b[0mother\u001b[0m\u001b[0;34m,\u001b[0m \u001b[0mSeries\u001b[0m\u001b[0;34m)\u001b[0m \u001b[0;32mand\u001b[0m \u001b[0;32mnot\u001b[0m \u001b[0mself\u001b[0m\u001b[0;34m.\u001b[0m\u001b[0m_indexed_same\u001b[0m\u001b[0;34m(\u001b[0m\u001b[0mother\u001b[0m\u001b[0;34m)\u001b[0m\u001b[0;34m:\u001b[0m\u001b[0;34m\u001b[0m\u001b[0;34m\u001b[0m\u001b[0m\n\u001b[0;32m-> 4973\u001b[0;31m             \u001b[0;32mraise\u001b[0m \u001b[0mValueError\u001b[0m\u001b[0;34m(\u001b[0m\u001b[0;34m\"Can only compare identically-labeled Series objects\"\u001b[0m\u001b[0;34m)\u001b[0m\u001b[0;34m\u001b[0m\u001b[0;34m\u001b[0m\u001b[0m\n\u001b[0m\u001b[1;32m   4974\u001b[0m \u001b[0;34m\u001b[0m\u001b[0m\n",
      "\u001b[0;31mValueError\u001b[0m: Can only compare identically-labeled Series objects",
      "\nDuring handling of the above exception, another exception occurred:\n",
      "\u001b[0;31mKeyboardInterrupt\u001b[0m                         Traceback (most recent call last)",
      "\u001b[0;32m<timed exec>\u001b[0m in \u001b[0;36m<module>\u001b[0;34m\u001b[0m\n",
      "\u001b[0;32m/opt/conda/lib/python3.8/site-packages/swifter/swifter.py\u001b[0m in \u001b[0;36mapply\u001b[0;34m(self, func, axis, raw, result_type, args, **kwds)\u001b[0m\n\u001b[1;32m    357\u001b[0m                 \u001b[0;32mand\u001b[0m \u001b[0maxis\u001b[0m \u001b[0;34m==\u001b[0m \u001b[0;36m1\u001b[0m\u001b[0;34m\u001b[0m\u001b[0;34m\u001b[0m\u001b[0m\n\u001b[1;32m    358\u001b[0m             ):\n\u001b[0;32m--> 359\u001b[0;31m                 \u001b[0;32mreturn\u001b[0m \u001b[0mself\u001b[0m\u001b[0;34m.\u001b[0m\u001b[0m_dask_apply\u001b[0m\u001b[0;34m(\u001b[0m\u001b[0mfunc\u001b[0m\u001b[0;34m,\u001b[0m \u001b[0maxis\u001b[0m\u001b[0;34m,\u001b[0m \u001b[0mraw\u001b[0m\u001b[0;34m,\u001b[0m \u001b[0mresult_type\u001b[0m\u001b[0;34m,\u001b[0m \u001b[0;34m*\u001b[0m\u001b[0margs\u001b[0m\u001b[0;34m,\u001b[0m \u001b[0;34m**\u001b[0m\u001b[0mkwds\u001b[0m\u001b[0;34m)\u001b[0m\u001b[0;34m\u001b[0m\u001b[0;34m\u001b[0m\u001b[0m\n\u001b[0m\u001b[1;32m    360\u001b[0m             \u001b[0;31m# if not dask, use modin for string processing\u001b[0m\u001b[0;34m\u001b[0m\u001b[0;34m\u001b[0m\u001b[0;34m\u001b[0m\u001b[0m\n\u001b[1;32m    361\u001b[0m             \u001b[0;32melif\u001b[0m \u001b[0;34m(\u001b[0m\u001b[0mest_apply_duration\u001b[0m \u001b[0;34m>\u001b[0m \u001b[0mself\u001b[0m\u001b[0;34m.\u001b[0m\u001b[0m_dask_threshold\u001b[0m\u001b[0;34m)\u001b[0m \u001b[0;32mand\u001b[0m \u001b[0maxis\u001b[0m \u001b[0;34m==\u001b[0m \u001b[0;36m1\u001b[0m\u001b[0;34m:\u001b[0m\u001b[0;34m\u001b[0m\u001b[0;34m\u001b[0m\u001b[0m\n",
      "\u001b[0;32m/opt/conda/lib/python3.8/site-packages/swifter/swifter.py\u001b[0m in \u001b[0;36m_dask_apply\u001b[0;34m(self, func, axis, raw, result_type, *args, **kwds)\u001b[0m\n\u001b[1;32m    304\u001b[0m                 \u001b[0;32mwith\u001b[0m \u001b[0mTQDMDaskProgressBar\u001b[0m\u001b[0;34m(\u001b[0m\u001b[0mdesc\u001b[0m\u001b[0;34m=\u001b[0m\u001b[0mself\u001b[0m\u001b[0;34m.\u001b[0m\u001b[0m_progress_bar_desc\u001b[0m \u001b[0;32mor\u001b[0m \u001b[0;34m\"Dask Apply\"\u001b[0m\u001b[0;34m)\u001b[0m\u001b[0;34m:\u001b[0m\u001b[0;34m\u001b[0m\u001b[0;34m\u001b[0m\u001b[0m\n\u001b[1;32m    305\u001b[0m                     return (\n\u001b[0;32m--> 306\u001b[0;31m                         \u001b[0mdd\u001b[0m\u001b[0;34m.\u001b[0m\u001b[0mfrom_pandas\u001b[0m\u001b[0;34m(\u001b[0m\u001b[0mself\u001b[0m\u001b[0;34m.\u001b[0m\u001b[0m_obj\u001b[0m\u001b[0;34m,\u001b[0m \u001b[0mnpartitions\u001b[0m\u001b[0;34m=\u001b[0m\u001b[0mself\u001b[0m\u001b[0;34m.\u001b[0m\u001b[0m_npartitions\u001b[0m\u001b[0;34m)\u001b[0m\u001b[0;34m\u001b[0m\u001b[0;34m\u001b[0m\u001b[0m\n\u001b[0m\u001b[1;32m    307\u001b[0m                         \u001b[0;34m.\u001b[0m\u001b[0mapply\u001b[0m\u001b[0;34m(\u001b[0m\u001b[0mfunc\u001b[0m\u001b[0;34m,\u001b[0m \u001b[0;34m*\u001b[0m\u001b[0margs\u001b[0m\u001b[0;34m,\u001b[0m \u001b[0maxis\u001b[0m\u001b[0;34m=\u001b[0m\u001b[0maxis\u001b[0m\u001b[0;34m,\u001b[0m \u001b[0mraw\u001b[0m\u001b[0;34m=\u001b[0m\u001b[0mraw\u001b[0m\u001b[0;34m,\u001b[0m \u001b[0mresult_type\u001b[0m\u001b[0;34m=\u001b[0m\u001b[0mresult_type\u001b[0m\u001b[0;34m,\u001b[0m \u001b[0mmeta\u001b[0m\u001b[0;34m=\u001b[0m\u001b[0mmeta\u001b[0m\u001b[0;34m,\u001b[0m \u001b[0;34m**\u001b[0m\u001b[0mkwds\u001b[0m\u001b[0;34m)\u001b[0m\u001b[0;34m\u001b[0m\u001b[0;34m\u001b[0m\u001b[0m\n\u001b[1;32m    308\u001b[0m                         \u001b[0;34m.\u001b[0m\u001b[0mcompute\u001b[0m\u001b[0;34m(\u001b[0m\u001b[0mscheduler\u001b[0m\u001b[0;34m=\u001b[0m\u001b[0mself\u001b[0m\u001b[0;34m.\u001b[0m\u001b[0m_scheduler\u001b[0m\u001b[0;34m)\u001b[0m\u001b[0;34m\u001b[0m\u001b[0;34m\u001b[0m\u001b[0m\n",
      "\u001b[0;32m/opt/conda/lib/python3.8/site-packages/dask/base.py\u001b[0m in \u001b[0;36mcompute\u001b[0;34m(self, **kwargs)\u001b[0m\n\u001b[1;32m    282\u001b[0m         \u001b[0mdask\u001b[0m\u001b[0;34m.\u001b[0m\u001b[0mbase\u001b[0m\u001b[0;34m.\u001b[0m\u001b[0mcompute\u001b[0m\u001b[0;34m\u001b[0m\u001b[0;34m\u001b[0m\u001b[0m\n\u001b[1;32m    283\u001b[0m         \"\"\"\n\u001b[0;32m--> 284\u001b[0;31m         \u001b[0;34m(\u001b[0m\u001b[0mresult\u001b[0m\u001b[0;34m,\u001b[0m\u001b[0;34m)\u001b[0m \u001b[0;34m=\u001b[0m \u001b[0mcompute\u001b[0m\u001b[0;34m(\u001b[0m\u001b[0mself\u001b[0m\u001b[0;34m,\u001b[0m \u001b[0mtraverse\u001b[0m\u001b[0;34m=\u001b[0m\u001b[0;32mFalse\u001b[0m\u001b[0;34m,\u001b[0m \u001b[0;34m**\u001b[0m\u001b[0mkwargs\u001b[0m\u001b[0;34m)\u001b[0m\u001b[0;34m\u001b[0m\u001b[0;34m\u001b[0m\u001b[0m\n\u001b[0m\u001b[1;32m    285\u001b[0m         \u001b[0;32mreturn\u001b[0m \u001b[0mresult\u001b[0m\u001b[0;34m\u001b[0m\u001b[0;34m\u001b[0m\u001b[0m\n\u001b[1;32m    286\u001b[0m \u001b[0;34m\u001b[0m\u001b[0m\n",
      "\u001b[0;32m/opt/conda/lib/python3.8/site-packages/dask/base.py\u001b[0m in \u001b[0;36mcompute\u001b[0;34m(*args, **kwargs)\u001b[0m\n\u001b[1;32m    564\u001b[0m         \u001b[0mpostcomputes\u001b[0m\u001b[0;34m.\u001b[0m\u001b[0mappend\u001b[0m\u001b[0;34m(\u001b[0m\u001b[0mx\u001b[0m\u001b[0;34m.\u001b[0m\u001b[0m__dask_postcompute__\u001b[0m\u001b[0;34m(\u001b[0m\u001b[0;34m)\u001b[0m\u001b[0;34m)\u001b[0m\u001b[0;34m\u001b[0m\u001b[0;34m\u001b[0m\u001b[0m\n\u001b[1;32m    565\u001b[0m \u001b[0;34m\u001b[0m\u001b[0m\n\u001b[0;32m--> 566\u001b[0;31m     \u001b[0mresults\u001b[0m \u001b[0;34m=\u001b[0m \u001b[0mschedule\u001b[0m\u001b[0;34m(\u001b[0m\u001b[0mdsk\u001b[0m\u001b[0;34m,\u001b[0m \u001b[0mkeys\u001b[0m\u001b[0;34m,\u001b[0m \u001b[0;34m**\u001b[0m\u001b[0mkwargs\u001b[0m\u001b[0;34m)\u001b[0m\u001b[0;34m\u001b[0m\u001b[0;34m\u001b[0m\u001b[0m\n\u001b[0m\u001b[1;32m    567\u001b[0m     \u001b[0;32mreturn\u001b[0m \u001b[0mrepack\u001b[0m\u001b[0;34m(\u001b[0m\u001b[0;34m[\u001b[0m\u001b[0mf\u001b[0m\u001b[0;34m(\u001b[0m\u001b[0mr\u001b[0m\u001b[0;34m,\u001b[0m \u001b[0;34m*\u001b[0m\u001b[0ma\u001b[0m\u001b[0;34m)\u001b[0m \u001b[0;32mfor\u001b[0m \u001b[0mr\u001b[0m\u001b[0;34m,\u001b[0m \u001b[0;34m(\u001b[0m\u001b[0mf\u001b[0m\u001b[0;34m,\u001b[0m \u001b[0ma\u001b[0m\u001b[0;34m)\u001b[0m \u001b[0;32min\u001b[0m \u001b[0mzip\u001b[0m\u001b[0;34m(\u001b[0m\u001b[0mresults\u001b[0m\u001b[0;34m,\u001b[0m \u001b[0mpostcomputes\u001b[0m\u001b[0;34m)\u001b[0m\u001b[0;34m]\u001b[0m\u001b[0;34m)\u001b[0m\u001b[0;34m\u001b[0m\u001b[0;34m\u001b[0m\u001b[0m\n\u001b[1;32m    568\u001b[0m \u001b[0;34m\u001b[0m\u001b[0m\n",
      "\u001b[0;32m/opt/conda/lib/python3.8/site-packages/dask/multiprocessing.py\u001b[0m in \u001b[0;36mget\u001b[0;34m(dsk, keys, num_workers, func_loads, func_dumps, optimize_graph, pool, chunksize, **kwargs)\u001b[0m\n\u001b[1;32m    217\u001b[0m     \u001b[0;32mtry\u001b[0m\u001b[0;34m:\u001b[0m\u001b[0;34m\u001b[0m\u001b[0;34m\u001b[0m\u001b[0m\n\u001b[1;32m    218\u001b[0m         \u001b[0;31m# Run\u001b[0m\u001b[0;34m\u001b[0m\u001b[0;34m\u001b[0m\u001b[0;34m\u001b[0m\u001b[0m\n\u001b[0;32m--> 219\u001b[0;31m         result = get_async(\n\u001b[0m\u001b[1;32m    220\u001b[0m             \u001b[0mpool\u001b[0m\u001b[0;34m.\u001b[0m\u001b[0msubmit\u001b[0m\u001b[0;34m,\u001b[0m\u001b[0;34m\u001b[0m\u001b[0;34m\u001b[0m\u001b[0m\n\u001b[1;32m    221\u001b[0m             \u001b[0mpool\u001b[0m\u001b[0;34m.\u001b[0m\u001b[0m_max_workers\u001b[0m\u001b[0;34m,\u001b[0m\u001b[0;34m\u001b[0m\u001b[0;34m\u001b[0m\u001b[0m\n",
      "\u001b[0;32m/opt/conda/lib/python3.8/site-packages/dask/local.py\u001b[0m in \u001b[0;36mget_async\u001b[0;34m(submit, num_workers, dsk, result, cache, get_id, rerun_exceptions_locally, pack_exception, raise_exception, callbacks, dumps, loads, chunksize, **kwargs)\u001b[0m\n\u001b[1;32m    501\u001b[0m             \u001b[0;32mwhile\u001b[0m \u001b[0mstate\u001b[0m\u001b[0;34m[\u001b[0m\u001b[0;34m\"waiting\"\u001b[0m\u001b[0;34m]\u001b[0m \u001b[0;32mor\u001b[0m \u001b[0mstate\u001b[0m\u001b[0;34m[\u001b[0m\u001b[0;34m\"ready\"\u001b[0m\u001b[0;34m]\u001b[0m \u001b[0;32mor\u001b[0m \u001b[0mstate\u001b[0m\u001b[0;34m[\u001b[0m\u001b[0;34m\"running\"\u001b[0m\u001b[0;34m]\u001b[0m\u001b[0;34m:\u001b[0m\u001b[0;34m\u001b[0m\u001b[0;34m\u001b[0m\u001b[0m\n\u001b[1;32m    502\u001b[0m                 \u001b[0mfire_tasks\u001b[0m\u001b[0;34m(\u001b[0m\u001b[0mchunksize\u001b[0m\u001b[0;34m)\u001b[0m\u001b[0;34m\u001b[0m\u001b[0;34m\u001b[0m\u001b[0m\n\u001b[0;32m--> 503\u001b[0;31m                 \u001b[0;32mfor\u001b[0m \u001b[0mkey\u001b[0m\u001b[0;34m,\u001b[0m \u001b[0mres_info\u001b[0m\u001b[0;34m,\u001b[0m \u001b[0mfailed\u001b[0m \u001b[0;32min\u001b[0m \u001b[0mqueue_get\u001b[0m\u001b[0;34m(\u001b[0m\u001b[0mqueue\u001b[0m\u001b[0;34m)\u001b[0m\u001b[0;34m.\u001b[0m\u001b[0mresult\u001b[0m\u001b[0;34m(\u001b[0m\u001b[0;34m)\u001b[0m\u001b[0;34m:\u001b[0m\u001b[0;34m\u001b[0m\u001b[0;34m\u001b[0m\u001b[0m\n\u001b[0m\u001b[1;32m    504\u001b[0m                     \u001b[0;32mif\u001b[0m \u001b[0mfailed\u001b[0m\u001b[0;34m:\u001b[0m\u001b[0;34m\u001b[0m\u001b[0;34m\u001b[0m\u001b[0m\n\u001b[1;32m    505\u001b[0m                         \u001b[0mexc\u001b[0m\u001b[0;34m,\u001b[0m \u001b[0mtb\u001b[0m \u001b[0;34m=\u001b[0m \u001b[0mloads\u001b[0m\u001b[0;34m(\u001b[0m\u001b[0mres_info\u001b[0m\u001b[0;34m)\u001b[0m\u001b[0;34m\u001b[0m\u001b[0;34m\u001b[0m\u001b[0m\n",
      "\u001b[0;32m/opt/conda/lib/python3.8/site-packages/dask/local.py\u001b[0m in \u001b[0;36mqueue_get\u001b[0;34m(q)\u001b[0m\n\u001b[1;32m    132\u001b[0m \u001b[0;34m\u001b[0m\u001b[0m\n\u001b[1;32m    133\u001b[0m     \u001b[0;32mdef\u001b[0m \u001b[0mqueue_get\u001b[0m\u001b[0;34m(\u001b[0m\u001b[0mq\u001b[0m\u001b[0;34m)\u001b[0m\u001b[0;34m:\u001b[0m\u001b[0;34m\u001b[0m\u001b[0;34m\u001b[0m\u001b[0m\n\u001b[0;32m--> 134\u001b[0;31m         \u001b[0;32mreturn\u001b[0m \u001b[0mq\u001b[0m\u001b[0;34m.\u001b[0m\u001b[0mget\u001b[0m\u001b[0;34m(\u001b[0m\u001b[0;34m)\u001b[0m\u001b[0;34m\u001b[0m\u001b[0;34m\u001b[0m\u001b[0m\n\u001b[0m\u001b[1;32m    135\u001b[0m \u001b[0;34m\u001b[0m\u001b[0m\n\u001b[1;32m    136\u001b[0m \u001b[0;34m\u001b[0m\u001b[0m\n",
      "\u001b[0;32m/opt/conda/lib/python3.8/queue.py\u001b[0m in \u001b[0;36mget\u001b[0;34m(self, block, timeout)\u001b[0m\n\u001b[1;32m    168\u001b[0m             \u001b[0;32melif\u001b[0m \u001b[0mtimeout\u001b[0m \u001b[0;32mis\u001b[0m \u001b[0;32mNone\u001b[0m\u001b[0;34m:\u001b[0m\u001b[0;34m\u001b[0m\u001b[0;34m\u001b[0m\u001b[0m\n\u001b[1;32m    169\u001b[0m                 \u001b[0;32mwhile\u001b[0m \u001b[0;32mnot\u001b[0m \u001b[0mself\u001b[0m\u001b[0;34m.\u001b[0m\u001b[0m_qsize\u001b[0m\u001b[0;34m(\u001b[0m\u001b[0;34m)\u001b[0m\u001b[0;34m:\u001b[0m\u001b[0;34m\u001b[0m\u001b[0;34m\u001b[0m\u001b[0m\n\u001b[0;32m--> 170\u001b[0;31m                     \u001b[0mself\u001b[0m\u001b[0;34m.\u001b[0m\u001b[0mnot_empty\u001b[0m\u001b[0;34m.\u001b[0m\u001b[0mwait\u001b[0m\u001b[0;34m(\u001b[0m\u001b[0;34m)\u001b[0m\u001b[0;34m\u001b[0m\u001b[0;34m\u001b[0m\u001b[0m\n\u001b[0m\u001b[1;32m    171\u001b[0m             \u001b[0;32melif\u001b[0m \u001b[0mtimeout\u001b[0m \u001b[0;34m<\u001b[0m \u001b[0;36m0\u001b[0m\u001b[0;34m:\u001b[0m\u001b[0;34m\u001b[0m\u001b[0;34m\u001b[0m\u001b[0m\n\u001b[1;32m    172\u001b[0m                 \u001b[0;32mraise\u001b[0m \u001b[0mValueError\u001b[0m\u001b[0;34m(\u001b[0m\u001b[0;34m\"'timeout' must be a non-negative number\"\u001b[0m\u001b[0;34m)\u001b[0m\u001b[0;34m\u001b[0m\u001b[0;34m\u001b[0m\u001b[0m\n",
      "\u001b[0;32m/opt/conda/lib/python3.8/threading.py\u001b[0m in \u001b[0;36mwait\u001b[0;34m(self, timeout)\u001b[0m\n\u001b[1;32m    300\u001b[0m         \u001b[0;32mtry\u001b[0m\u001b[0;34m:\u001b[0m    \u001b[0;31m# restore state no matter what (e.g., KeyboardInterrupt)\u001b[0m\u001b[0;34m\u001b[0m\u001b[0;34m\u001b[0m\u001b[0m\n\u001b[1;32m    301\u001b[0m             \u001b[0;32mif\u001b[0m \u001b[0mtimeout\u001b[0m \u001b[0;32mis\u001b[0m \u001b[0;32mNone\u001b[0m\u001b[0;34m:\u001b[0m\u001b[0;34m\u001b[0m\u001b[0;34m\u001b[0m\u001b[0m\n\u001b[0;32m--> 302\u001b[0;31m                 \u001b[0mwaiter\u001b[0m\u001b[0;34m.\u001b[0m\u001b[0macquire\u001b[0m\u001b[0;34m(\u001b[0m\u001b[0;34m)\u001b[0m\u001b[0;34m\u001b[0m\u001b[0;34m\u001b[0m\u001b[0m\n\u001b[0m\u001b[1;32m    303\u001b[0m                 \u001b[0mgotit\u001b[0m \u001b[0;34m=\u001b[0m \u001b[0;32mTrue\u001b[0m\u001b[0;34m\u001b[0m\u001b[0;34m\u001b[0m\u001b[0m\n\u001b[1;32m    304\u001b[0m             \u001b[0;32melse\u001b[0m\u001b[0;34m:\u001b[0m\u001b[0;34m\u001b[0m\u001b[0;34m\u001b[0m\u001b[0m\n",
      "\u001b[0;31mKeyboardInterrupt\u001b[0m: "
     ]
    }
   ],
   "source": [
    "%%time\n",
    "df_merge_all_data_camping_unique['cancelation_likely'] = df_merge_all_data_camping_unique.swifter.apply(reservations_likely_canceled, axis=1)"
   ]
  },
  {
   "cell_type": "code",
   "execution_count": 29,
   "id": "19e03956-bccd-4827-bae8-f60ae9f5d460",
   "metadata": {},
   "outputs": [
    {
     "data": {
      "text/html": [
       "<div>\n",
       "<style scoped>\n",
       "    .dataframe tbody tr th:only-of-type {\n",
       "        vertical-align: middle;\n",
       "    }\n",
       "\n",
       "    .dataframe tbody tr th {\n",
       "        vertical-align: top;\n",
       "    }\n",
       "\n",
       "    .dataframe thead th {\n",
       "        text-align: right;\n",
       "    }\n",
       "</style>\n",
       "<table border=\"1\" class=\"dataframe\">\n",
       "  <thead>\n",
       "    <tr style=\"text-align: right;\">\n",
       "      <th></th>\n",
       "      <th>historicalreservationid</th>\n",
       "      <th>ordernumber</th>\n",
       "      <th>agency</th>\n",
       "      <th>orgid</th>\n",
       "      <th>codehierarchy</th>\n",
       "      <th>regioncode</th>\n",
       "      <th>regiondescription</th>\n",
       "      <th>parentlocationid</th>\n",
       "      <th>parentlocation</th>\n",
       "      <th>legacyfacilityid</th>\n",
       "      <th>...</th>\n",
       "      <th>startdate</th>\n",
       "      <th>enddate</th>\n",
       "      <th>orderdate</th>\n",
       "      <th>nights</th>\n",
       "      <th>numberofpeople</th>\n",
       "      <th>equipmentdescription</th>\n",
       "      <th>equipmentlength</th>\n",
       "      <th>total_num_campsites</th>\n",
       "      <th>campsite</th>\n",
       "      <th>cancelation_likely</th>\n",
       "    </tr>\n",
       "  </thead>\n",
       "  <tbody>\n",
       "    <tr>\n",
       "      <th>0</th>\n",
       "      <td>fa50401c-f08a-4738-b576-56335cc19cb7</td>\n",
       "      <td>0121072064-1</td>\n",
       "      <td>BLM</td>\n",
       "      <td>126</td>\n",
       "      <td>|1|70901|72193|72194|146090</td>\n",
       "      <td>AK</td>\n",
       "      <td>Alaska (BLM)</td>\n",
       "      <td>72195.0</td>\n",
       "      <td>White Mountains National Recreation Area</td>\n",
       "      <td>146090.0</td>\n",
       "      <td>...</td>\n",
       "      <td>2019-10-17</td>\n",
       "      <td>2019-10-18</td>\n",
       "      <td>2019-09-18 16:25:42.280</td>\n",
       "      <td>1 day</td>\n",
       "      <td>6.0</td>\n",
       "      <td>NaN</td>\n",
       "      <td>0.0</td>\n",
       "      <td>14.0</td>\n",
       "      <td>True</td>\n",
       "      <td>True</td>\n",
       "    </tr>\n",
       "    <tr>\n",
       "      <th>1</th>\n",
       "      <td>09c37303-cf15-49d9-9b0c-ccc120328bbb</td>\n",
       "      <td>0200063847-1</td>\n",
       "      <td>BLM</td>\n",
       "      <td>126</td>\n",
       "      <td>|1|70901|72193|72194|146090</td>\n",
       "      <td>AK</td>\n",
       "      <td>Alaska (BLM)</td>\n",
       "      <td>72195.0</td>\n",
       "      <td>White Mountains National Recreation Area</td>\n",
       "      <td>146090.0</td>\n",
       "      <td>...</td>\n",
       "      <td>2020-04-11</td>\n",
       "      <td>2020-04-12</td>\n",
       "      <td>2020-03-13 16:35:11.612</td>\n",
       "      <td>1 day</td>\n",
       "      <td>1.0</td>\n",
       "      <td>NaN</td>\n",
       "      <td>0.0</td>\n",
       "      <td>14.0</td>\n",
       "      <td>True</td>\n",
       "      <td>True</td>\n",
       "    </tr>\n",
       "    <tr>\n",
       "      <th>2</th>\n",
       "      <td>f1f5c841-46b1-4ff8-a6dc-fcac2e76ae1c</td>\n",
       "      <td>0200087454-1</td>\n",
       "      <td>BLM</td>\n",
       "      <td>126</td>\n",
       "      <td>|1|70901|72193|72194|146090</td>\n",
       "      <td>AK</td>\n",
       "      <td>Alaska (BLM)</td>\n",
       "      <td>72195.0</td>\n",
       "      <td>White Mountains National Recreation Area</td>\n",
       "      <td>146090.0</td>\n",
       "      <td>...</td>\n",
       "      <td>2020-09-07</td>\n",
       "      <td>2020-09-10</td>\n",
       "      <td>2020-08-17 05:19:08.159</td>\n",
       "      <td>3 days</td>\n",
       "      <td>2.0</td>\n",
       "      <td>NaN</td>\n",
       "      <td>0.0</td>\n",
       "      <td>14.0</td>\n",
       "      <td>True</td>\n",
       "      <td>True</td>\n",
       "    </tr>\n",
       "    <tr>\n",
       "      <th>3</th>\n",
       "      <td>619f4394-1cac-4a64-8f0c-eae6e7f6bf3b</td>\n",
       "      <td>0200102788-1</td>\n",
       "      <td>BLM</td>\n",
       "      <td>126</td>\n",
       "      <td>|1|70901|72193|72194|146090</td>\n",
       "      <td>AK</td>\n",
       "      <td>Alaska (BLM)</td>\n",
       "      <td>72195.0</td>\n",
       "      <td>White Mountains National Recreation Area</td>\n",
       "      <td>146090.0</td>\n",
       "      <td>...</td>\n",
       "      <td>2020-03-21</td>\n",
       "      <td>2020-03-22</td>\n",
       "      <td>2020-02-20 15:01:33.904</td>\n",
       "      <td>1 day</td>\n",
       "      <td>3.0</td>\n",
       "      <td>NaN</td>\n",
       "      <td>0.0</td>\n",
       "      <td>14.0</td>\n",
       "      <td>True</td>\n",
       "      <td>True</td>\n",
       "    </tr>\n",
       "    <tr>\n",
       "      <th>4</th>\n",
       "      <td>82674243-7f31-41e6-b3db-d0690513cad3</td>\n",
       "      <td>0200147542-1</td>\n",
       "      <td>BLM</td>\n",
       "      <td>126</td>\n",
       "      <td>|1|70901|72193|72194|146090</td>\n",
       "      <td>AK</td>\n",
       "      <td>Alaska (BLM)</td>\n",
       "      <td>72195.0</td>\n",
       "      <td>White Mountains National Recreation Area</td>\n",
       "      <td>146090.0</td>\n",
       "      <td>...</td>\n",
       "      <td>2019-12-07</td>\n",
       "      <td>2019-12-08</td>\n",
       "      <td>2019-11-07 17:54:01.448</td>\n",
       "      <td>1 day</td>\n",
       "      <td>2.0</td>\n",
       "      <td>NaN</td>\n",
       "      <td>0.0</td>\n",
       "      <td>14.0</td>\n",
       "      <td>True</td>\n",
       "      <td>False</td>\n",
       "    </tr>\n",
       "  </tbody>\n",
       "</table>\n",
       "<p>5 rows × 40 columns</p>\n",
       "</div>"
      ],
      "text/plain": [
       "                historicalreservationid   ordernumber agency  orgid  \\\n",
       "0  fa50401c-f08a-4738-b576-56335cc19cb7  0121072064-1    BLM    126   \n",
       "1  09c37303-cf15-49d9-9b0c-ccc120328bbb  0200063847-1    BLM    126   \n",
       "2  f1f5c841-46b1-4ff8-a6dc-fcac2e76ae1c  0200087454-1    BLM    126   \n",
       "3  619f4394-1cac-4a64-8f0c-eae6e7f6bf3b  0200102788-1    BLM    126   \n",
       "4  82674243-7f31-41e6-b3db-d0690513cad3  0200147542-1    BLM    126   \n",
       "\n",
       "                 codehierarchy regioncode regiondescription  parentlocationid  \\\n",
       "0  |1|70901|72193|72194|146090         AK      Alaska (BLM)           72195.0   \n",
       "1  |1|70901|72193|72194|146090         AK      Alaska (BLM)           72195.0   \n",
       "2  |1|70901|72193|72194|146090         AK      Alaska (BLM)           72195.0   \n",
       "3  |1|70901|72193|72194|146090         AK      Alaska (BLM)           72195.0   \n",
       "4  |1|70901|72193|72194|146090         AK      Alaska (BLM)           72195.0   \n",
       "\n",
       "                             parentlocation  legacyfacilityid  ...  startdate  \\\n",
       "0  White Mountains National Recreation Area          146090.0  ... 2019-10-17   \n",
       "1  White Mountains National Recreation Area          146090.0  ... 2020-04-11   \n",
       "2  White Mountains National Recreation Area          146090.0  ... 2020-09-07   \n",
       "3  White Mountains National Recreation Area          146090.0  ... 2020-03-21   \n",
       "4  White Mountains National Recreation Area          146090.0  ... 2019-12-07   \n",
       "\n",
       "     enddate               orderdate  nights numberofpeople  \\\n",
       "0 2019-10-18 2019-09-18 16:25:42.280   1 day            6.0   \n",
       "1 2020-04-12 2020-03-13 16:35:11.612   1 day            1.0   \n",
       "2 2020-09-10 2020-08-17 05:19:08.159  3 days            2.0   \n",
       "3 2020-03-22 2020-02-20 15:01:33.904   1 day            3.0   \n",
       "4 2019-12-08 2019-11-07 17:54:01.448   1 day            2.0   \n",
       "\n",
       "   equipmentdescription  equipmentlength total_num_campsites  campsite  \\\n",
       "0                   NaN              0.0                14.0      True   \n",
       "1                   NaN              0.0                14.0      True   \n",
       "2                   NaN              0.0                14.0      True   \n",
       "3                   NaN              0.0                14.0      True   \n",
       "4                   NaN              0.0                14.0      True   \n",
       "\n",
       "   cancelation_likely  \n",
       "0                True  \n",
       "1                True  \n",
       "2                True  \n",
       "3                True  \n",
       "4               False  \n",
       "\n",
       "[5 rows x 40 columns]"
      ]
     },
     "execution_count": 29,
     "metadata": {},
     "output_type": "execute_result"
    }
   ],
   "source": [
    "df_merge_all_data.head()"
   ]
  },
  {
   "cell_type": "code",
   "execution_count": null,
   "id": "c2a6db0f-c761-41d2-9590-10c320f9b135",
   "metadata": {},
   "outputs": [],
   "source": []
  },
  {
   "cell_type": "code",
   "execution_count": null,
   "id": "58dbcf7e-24ea-4ba2-b67e-9fd345f4cf4e",
   "metadata": {},
   "outputs": [],
   "source": []
  },
  {
   "cell_type": "code",
   "execution_count": 37,
   "id": "f21297a0-8c86-4a91-8fa9-4dc0a8a7b576",
   "metadata": {},
   "outputs": [],
   "source": [
    "\n",
    "def reservations_likely_canceled(row):\n",
    "    '''if there is another reservation made at a later date that has the same facility and \n",
    "    productuctid and is within the same reservation date block (between start and end) then \n",
    "    consider this one to be a likely canceled one.'''\n",
    "    \n",
    "    \n",
    "    facil = row['facilityid']\n",
    "    campsite = row['productid']\n",
    "    sdate = row['startdate']\n",
    "    edate = row['enddate']\n",
    "    odate = row['orderdate']\n",
    "    \n",
    "    \n",
    "    #select all rows where the start date is after and facil and campsite number are the same\n",
    "    #(StartA <= EndB) and (EndA >= StartB)\n",
    "    df_other_res = df_merge_all_data[(df_merge_all_data['facilityid']==facil) & \n",
    "                  (df_merge_all_data['productid']==campsite) & \n",
    "                  (df_merge_all_data['startdate']<=edate) &\n",
    "                  (df_merge_all_data['enddate']>=sdate) &\n",
    "                  (df_merge_all_data['orderdate']>odate)]\n",
    "    \n",
    "    if df_other_res.empty:\n",
    "        return False\n",
    "    else:\n",
    "        return True\n",
    "    \n"
   ]
  },
  {
   "cell_type": "code",
   "execution_count": 38,
   "id": "a959dd0f-eb9b-4b39-b98a-c5957495c1b1",
   "metadata": {},
   "outputs": [
    {
     "data": {
      "application/vnd.jupyter.widget-view+json": {
       "model_id": "055c87c2cb654bdf824b972601a9f8d3",
       "version_major": 2,
       "version_minor": 0
      },
      "text/plain": [
       "Dask Apply:   0%|          | 0/16 [00:00<?, ?it/s]"
      ]
     },
     "metadata": {},
     "output_type": "display_data"
    },
    {
     "name": "stdout",
     "output_type": "stream",
     "text": [
      "CPU times: user 17.1 s, sys: 2.28 s, total: 19.4 s\n",
      "Wall time: 2min 7s\n"
     ]
    }
   ],
   "source": [
    "%%time\n",
    "df_merge_all_data['cancelation_likely'] = df_merge_all_data.swifter.apply(reservations_likely_canceled, axis=1)"
   ]
  },
  {
   "cell_type": "code",
   "execution_count": null,
   "id": "597c8e47-904f-4707-b48d-6f36842137ec",
   "metadata": {},
   "outputs": [],
   "source": []
  },
  {
   "cell_type": "markdown",
   "id": "276bbe06",
   "metadata": {},
   "source": [
    "Attempt a similar process but using dask"
   ]
  },
  {
   "cell_type": "code",
   "execution_count": 16,
   "id": "f17a2a8a",
   "metadata": {},
   "outputs": [],
   "source": [
    "ddf = dd.from_pandas(df_merge_all_data, npartitions=4)"
   ]
  },
  {
   "cell_type": "code",
   "execution_count": 37,
   "id": "dd3cfd66",
   "metadata": {},
   "outputs": [],
   "source": [
    "def reservations_likely_canceled_ddf(row):\n",
    "    '''if there is another reservation made at a later date that has the same facility and \n",
    "    productuctid and is within the same reservation date block (between start and end) then \n",
    "    consider this one to be a likely canceled one.'''\n",
    "    \n",
    "    \n",
    "    facil = row['facilityid']\n",
    "    campsite = row['productid']\n",
    "    sdate = row['startdate']\n",
    "    edate = row['enddate']\n",
    "    odate = row['orderdate']\n",
    "    \n",
    "    \n",
    "    #select all rows where the start date is after and facil and campsite number are the same\n",
    "    #(StartA <= EndB) and (EndA >= StartB)\n",
    "    df_other_res = ddf[(ddf['facilityid']==facil) & \n",
    "                  (ddf['productid']==campsite) & \n",
    "                  (ddf['startdate']<=edate) &\n",
    "                  (ddf['enddate']>=sdate) &\n",
    "                  (ddf['orderdate']>odate)]\n",
    "    \n",
    "    if len(df_other_res.index) == 0:\n",
    "        return False\n",
    "    else:\n",
    "        return True"
   ]
  },
  {
   "cell_type": "code",
   "execution_count": null,
   "id": "6b0aa931",
   "metadata": {},
   "outputs": [],
   "source": [
    "%%time\n",
    "ddf['cancelation_likely'] = ddf.map_partitions(reservations_likely_canceled_ddf, meta=(None, 'boolean')).compute()"
   ]
  },
  {
   "cell_type": "code",
   "execution_count": 15,
   "id": "0f77c76d",
   "metadata": {},
   "outputs": [
    {
     "name": "stdout",
     "output_type": "stream",
     "text": [
      "CPU times: user 2 µs, sys: 0 ns, total: 2 µs\n",
      "Wall time: 4.77 µs\n"
     ]
    }
   ],
   "source": [
    "\n"
   ]
  },
  {
   "cell_type": "code",
   "execution_count": 17,
   "id": "1ef89edc",
   "metadata": {},
   "outputs": [
    {
     "name": "stdout",
     "output_type": "stream",
     "text": [
      "CPU times: user 2.16 s, sys: 1.51 s, total: 3.67 s\n",
      "Wall time: 3.66 s\n"
     ]
    },
    {
     "data": {
      "text/html": [
       "<div>\n",
       "<style scoped>\n",
       "    .dataframe tbody tr th:only-of-type {\n",
       "        vertical-align: middle;\n",
       "    }\n",
       "\n",
       "    .dataframe tbody tr th {\n",
       "        vertical-align: top;\n",
       "    }\n",
       "\n",
       "    .dataframe thead th {\n",
       "        text-align: right;\n",
       "    }\n",
       "</style>\n",
       "<table border=\"1\" class=\"dataframe\">\n",
       "  <thead>\n",
       "    <tr style=\"text-align: right;\">\n",
       "      <th></th>\n",
       "      <th>historicalreservationid</th>\n",
       "      <th>ordernumber</th>\n",
       "      <th>agency</th>\n",
       "      <th>orgid</th>\n",
       "      <th>codehierarchy</th>\n",
       "      <th>regioncode</th>\n",
       "      <th>regiondescription</th>\n",
       "      <th>parentlocationid</th>\n",
       "      <th>parentlocation</th>\n",
       "      <th>legacyfacilityid</th>\n",
       "      <th>...</th>\n",
       "      <th>totalpaid</th>\n",
       "      <th>startdate</th>\n",
       "      <th>enddate</th>\n",
       "      <th>orderdate</th>\n",
       "      <th>nights</th>\n",
       "      <th>numberofpeople</th>\n",
       "      <th>equipmentdescription</th>\n",
       "      <th>equipmentlength</th>\n",
       "      <th>total_num_campsites</th>\n",
       "      <th>campsite</th>\n",
       "    </tr>\n",
       "  </thead>\n",
       "  <tbody>\n",
       "    <tr>\n",
       "      <th>472188</th>\n",
       "      <td>753e51bc-c714-4026-90d9-8f5921e870dc</td>\n",
       "      <td>0208169760-1</td>\n",
       "      <td>NPS</td>\n",
       "      <td>128</td>\n",
       "      <td>|1|70904|74324|74297|70923</td>\n",
       "      <td>RMR</td>\n",
       "      <td>Intermountain Region</td>\n",
       "      <td>74297</td>\n",
       "      <td>Zion National Park</td>\n",
       "      <td>70923.0</td>\n",
       "      <td>...</td>\n",
       "      <td>10.0</td>\n",
       "      <td>2020-09-17</td>\n",
       "      <td>2020-09-21</td>\n",
       "      <td>2020-03-21 19:45:37.770</td>\n",
       "      <td>4 days</td>\n",
       "      <td>6.0</td>\n",
       "      <td>Tent</td>\n",
       "      <td>0.0</td>\n",
       "      <td>188.0</td>\n",
       "      <td>True</td>\n",
       "    </tr>\n",
       "    <tr>\n",
       "      <th>475822</th>\n",
       "      <td>c23dd8c6-8190-403b-9aea-713565b3f459</td>\n",
       "      <td>0218642418-1</td>\n",
       "      <td>NPS</td>\n",
       "      <td>128</td>\n",
       "      <td>|1|70904|74324|74297|70923</td>\n",
       "      <td>RMR</td>\n",
       "      <td>Intermountain Region</td>\n",
       "      <td>74297</td>\n",
       "      <td>Zion National Park</td>\n",
       "      <td>70923.0</td>\n",
       "      <td>...</td>\n",
       "      <td>40.0</td>\n",
       "      <td>2020-09-18</td>\n",
       "      <td>2020-09-20</td>\n",
       "      <td>2020-09-11 16:34:11.903</td>\n",
       "      <td>2 days</td>\n",
       "      <td>4.0</td>\n",
       "      <td>Tent</td>\n",
       "      <td>0.0</td>\n",
       "      <td>188.0</td>\n",
       "      <td>True</td>\n",
       "    </tr>\n",
       "    <tr>\n",
       "      <th>485505</th>\n",
       "      <td>4c216018-339a-4bde-a14a-ae9f469e722a</td>\n",
       "      <td>0246310809-1</td>\n",
       "      <td>NPS</td>\n",
       "      <td>128</td>\n",
       "      <td>|1|70904|74324|74297|70923</td>\n",
       "      <td>RMR</td>\n",
       "      <td>Intermountain Region</td>\n",
       "      <td>74297</td>\n",
       "      <td>Zion National Park</td>\n",
       "      <td>70923.0</td>\n",
       "      <td>...</td>\n",
       "      <td>10.0</td>\n",
       "      <td>2020-09-18</td>\n",
       "      <td>2020-09-20</td>\n",
       "      <td>2020-08-27 18:50:52.941</td>\n",
       "      <td>2 days</td>\n",
       "      <td>4.0</td>\n",
       "      <td>Tent</td>\n",
       "      <td>0.0</td>\n",
       "      <td>188.0</td>\n",
       "      <td>True</td>\n",
       "    </tr>\n",
       "    <tr>\n",
       "      <th>498200</th>\n",
       "      <td>aaf65416-99de-40ae-b3c6-11521885e85f</td>\n",
       "      <td>0282784799-1</td>\n",
       "      <td>NPS</td>\n",
       "      <td>128</td>\n",
       "      <td>|1|70904|74324|74297|70923</td>\n",
       "      <td>RMR</td>\n",
       "      <td>Intermountain Region</td>\n",
       "      <td>74297</td>\n",
       "      <td>Zion National Park</td>\n",
       "      <td>70923.0</td>\n",
       "      <td>...</td>\n",
       "      <td>10.0</td>\n",
       "      <td>2020-09-18</td>\n",
       "      <td>2020-09-20</td>\n",
       "      <td>2020-08-17 18:02:47.100</td>\n",
       "      <td>2 days</td>\n",
       "      <td>2.0</td>\n",
       "      <td>Tent</td>\n",
       "      <td>0.0</td>\n",
       "      <td>188.0</td>\n",
       "      <td>True</td>\n",
       "    </tr>\n",
       "  </tbody>\n",
       "</table>\n",
       "<p>4 rows × 39 columns</p>\n",
       "</div>"
      ],
      "text/plain": [
       "                     historicalreservationid   ordernumber agency  orgid  \\\n",
       "472188  753e51bc-c714-4026-90d9-8f5921e870dc  0208169760-1    NPS    128   \n",
       "475822  c23dd8c6-8190-403b-9aea-713565b3f459  0218642418-1    NPS    128   \n",
       "485505  4c216018-339a-4bde-a14a-ae9f469e722a  0246310809-1    NPS    128   \n",
       "498200  aaf65416-99de-40ae-b3c6-11521885e85f  0282784799-1    NPS    128   \n",
       "\n",
       "                     codehierarchy regioncode     regiondescription  \\\n",
       "472188  |1|70904|74324|74297|70923        RMR  Intermountain Region   \n",
       "475822  |1|70904|74324|74297|70923        RMR  Intermountain Region   \n",
       "485505  |1|70904|74324|74297|70923        RMR  Intermountain Region   \n",
       "498200  |1|70904|74324|74297|70923        RMR  Intermountain Region   \n",
       "\n",
       "       parentlocationid      parentlocation  legacyfacilityid  ... totalpaid  \\\n",
       "472188            74297  Zion National Park           70923.0  ...      10.0   \n",
       "475822            74297  Zion National Park           70923.0  ...      40.0   \n",
       "485505            74297  Zion National Park           70923.0  ...      10.0   \n",
       "498200            74297  Zion National Park           70923.0  ...      10.0   \n",
       "\n",
       "        startdate    enddate               orderdate  nights numberofpeople  \\\n",
       "472188 2020-09-17 2020-09-21 2020-03-21 19:45:37.770  4 days            6.0   \n",
       "475822 2020-09-18 2020-09-20 2020-09-11 16:34:11.903  2 days            4.0   \n",
       "485505 2020-09-18 2020-09-20 2020-08-27 18:50:52.941  2 days            4.0   \n",
       "498200 2020-09-18 2020-09-20 2020-08-17 18:02:47.100  2 days            2.0   \n",
       "\n",
       "        equipmentdescription equipmentlength  total_num_campsites  campsite  \n",
       "472188                  Tent             0.0                188.0      True  \n",
       "475822                  Tent             0.0                188.0      True  \n",
       "485505                  Tent             0.0                188.0      True  \n",
       "498200                  Tent             0.0                188.0      True  \n",
       "\n",
       "[4 rows x 39 columns]"
      ]
     },
     "execution_count": 17,
     "metadata": {},
     "output_type": "execute_result"
    }
   ],
   "source": [
    "%%time\n",
    "facil = 232445\n",
    "campsite = 371\n",
    "sdate = '2020-09-18 00:00:00'\n",
    "edate = '2020-09-20 00:00:00'\n",
    "\n",
    "df_merge_all_data[(df_merge_all_data['facilityid']==facil) & \n",
    "                  (df_merge_all_data['productid']==campsite) & \n",
    "                  (df_merge_all_data['startdate']<edate) &\n",
    "                     (df_merge_all_data['enddate']>sdate)]"
   ]
  },
  {
   "cell_type": "code",
   "execution_count": 32,
   "id": "c73aaa9e",
   "metadata": {},
   "outputs": [
    {
     "name": "stdout",
     "output_type": "stream",
     "text": [
      "CPU times: user 4.85 ms, sys: 546 µs, total: 5.39 ms\n",
      "Wall time: 5.05 ms\n"
     ]
    },
    {
     "data": {
      "text/plain": [
       "Dask Series Structure:\n",
       "npartitions=4\n",
       "0          object\n",
       "1278698       ...\n",
       "2557396       ...\n",
       "3836094       ...\n",
       "5114788       ...\n",
       "Name: ordernumber, dtype: object\n",
       "Dask Name: getitem, 56 tasks"
      ]
     },
     "execution_count": 32,
     "metadata": {},
     "output_type": "execute_result"
    }
   ],
   "source": [
    "%%time\n",
    "facil = 232445\n",
    "campsite = 371\n",
    "sdate = '2020-09-18 00:00:00'\n",
    "edate = '2020-09-20 00:00:00'\n",
    "\n",
    "ddf[(ddf['facilityid']==facil) & \n",
    "                  (ddf['productid']==campsite) & \n",
    "                  (ddf['startdate']<edate) &\n",
    "                     (ddf['enddate']>sdate)]['ordernumber']"
   ]
  },
  {
   "cell_type": "code",
   "execution_count": null,
   "id": "834d32ff",
   "metadata": {},
   "outputs": [],
   "source": []
  },
  {
   "cell_type": "code",
   "execution_count": null,
   "id": "35a4e05a",
   "metadata": {},
   "outputs": [],
   "source": []
  },
  {
   "cell_type": "markdown",
   "id": "680f96aa",
   "metadata": {},
   "source": [
    "looking at the reservation records, identify the unique facilityid, facility name, parentlocation, and parentlocationid for the purpose of joining back to df_facility_max\n",
    "\n",
    "Before I do this, am I sure that this does not exist in another table? - there is a facility API table that has parent location id infomormation but not parent location name."
   ]
  },
  {
   "cell_type": "code",
   "execution_count": null,
   "id": "fe3e0967",
   "metadata": {},
   "outputs": [],
   "source": [
    "df_merge_all_data.columns"
   ]
  },
  {
   "cell_type": "code",
   "execution_count": null,
   "id": "ae927d10",
   "metadata": {},
   "outputs": [],
   "source": [
    "df_merge_all_data[['facilityid', 'park', 'parentlocationid', 'parentlocation', 'productid']]"
   ]
  },
  {
   "cell_type": "markdown",
   "id": "56f6647c",
   "metadata": {},
   "source": [
    "select from the resulting reservation table only the columns of interest"
   ]
  },
  {
   "cell_type": "code",
   "execution_count": null,
   "id": "5bb0d078",
   "metadata": {},
   "outputs": [],
   "source": []
  },
  {
   "cell_type": "code",
   "execution_count": null,
   "id": "d9f5180c",
   "metadata": {},
   "outputs": [],
   "source": [
    "df_merge_all_data.info()"
   ]
  },
  {
   "cell_type": "code",
   "execution_count": null,
   "id": "cfa4714f",
   "metadata": {},
   "outputs": [],
   "source": []
  }
 ],
 "metadata": {
  "kernelspec": {
   "display_name": "Python 3",
   "language": "python",
   "name": "python3"
  },
  "language_info": {
   "codemirror_mode": {
    "name": "ipython",
    "version": 3
   },
   "file_extension": ".py",
   "mimetype": "text/x-python",
   "name": "python",
   "nbconvert_exporter": "python",
   "pygments_lexer": "ipython3",
   "version": "3.8.8"
  }
 },
 "nbformat": 4,
 "nbformat_minor": 5
}
