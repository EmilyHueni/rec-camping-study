{
 "cells": [
  {
   "cell_type": "code",
   "execution_count": 1,
   "id": "d8ca9d8c",
   "metadata": {},
   "outputs": [
    {
     "name": "stdout",
     "output_type": "stream",
     "text": [
      "Requirement already satisfied: dask in /home/ec2-user/anaconda3/envs/python3/lib/python3.6/site-packages (2021.2.0)\n",
      "Requirement already satisfied: pyyaml in /home/ec2-user/anaconda3/envs/python3/lib/python3.6/site-packages (from dask) (5.4.1)\n",
      "\u001b[33mWARNING: You are using pip version 21.1.2; however, version 21.2.4 is available.\n",
      "You should consider upgrading via the '/home/ec2-user/anaconda3/envs/python3/bin/python -m pip install --upgrade pip' command.\u001b[0m\n"
     ]
    }
   ],
   "source": [
    "!pip install dask"
   ]
  },
  {
   "cell_type": "code",
   "execution_count": 2,
   "id": "5f27095b",
   "metadata": {},
   "outputs": [
    {
     "name": "stdout",
     "output_type": "stream",
     "text": [
      "Requirement already satisfied: boto3 in /home/ec2-user/anaconda3/envs/python3/lib/python3.6/site-packages (1.17.100)\n",
      "Requirement already satisfied: botocore<1.21.0,>=1.20.100 in /home/ec2-user/anaconda3/envs/python3/lib/python3.6/site-packages (from boto3) (1.20.100)\n",
      "Requirement already satisfied: s3transfer<0.5.0,>=0.4.0 in /home/ec2-user/anaconda3/envs/python3/lib/python3.6/site-packages (from boto3) (0.4.2)\n",
      "Requirement already satisfied: jmespath<1.0.0,>=0.7.1 in /home/ec2-user/anaconda3/envs/python3/lib/python3.6/site-packages (from boto3) (0.10.0)\n",
      "Requirement already satisfied: python-dateutil<3.0.0,>=2.1 in /home/ec2-user/anaconda3/envs/python3/lib/python3.6/site-packages (from botocore<1.21.0,>=1.20.100->boto3) (2.8.1)\n",
      "Requirement already satisfied: urllib3<1.27,>=1.25.4 in /home/ec2-user/anaconda3/envs/python3/lib/python3.6/site-packages (from botocore<1.21.0,>=1.20.100->boto3) (1.26.5)\n",
      "Requirement already satisfied: six>=1.5 in /home/ec2-user/anaconda3/envs/python3/lib/python3.6/site-packages (from python-dateutil<3.0.0,>=2.1->botocore<1.21.0,>=1.20.100->boto3) (1.15.0)\n",
      "\u001b[33mWARNING: You are using pip version 21.1.2; however, version 21.2.4 is available.\n",
      "You should consider upgrading via the '/home/ec2-user/anaconda3/envs/python3/bin/python -m pip install --upgrade pip' command.\u001b[0m\n"
     ]
    }
   ],
   "source": [
    "!pip install boto3"
   ]
  },
  {
   "cell_type": "code",
   "execution_count": 12,
   "id": "b38de4bc",
   "metadata": {},
   "outputs": [
    {
     "name": "stdout",
     "output_type": "stream",
     "text": [
      "\u001b[33mWARNING: You are using pip version 21.1.2; however, version 21.2.4 is available.\n",
      "You should consider upgrading via the '/home/ec2-user/anaconda3/envs/python3/bin/python -m pip install --upgrade pip' command.\u001b[0m\n"
     ]
    }
   ],
   "source": [
    "!pip install coiled>=0.0.47"
   ]
  },
  {
   "cell_type": "code",
   "execution_count": 9,
   "id": "39a18b07",
   "metadata": {},
   "outputs": [],
   "source": [
    "import coiled\n",
    "import dask.dataframe as dd\n",
    "import boto3"
   ]
  },
  {
   "cell_type": "code",
   "execution_count": null,
   "id": "8648cc2b",
   "metadata": {},
   "outputs": [],
   "source": [
    "!coiled login --token 998e38ec431b1aee6cade063f07d987ef1ec46cb"
   ]
  },
  {
   "cell_type": "code",
   "execution_count": null,
   "id": "1e077536",
   "metadata": {},
   "outputs": [],
   "source": [
    "cluster = coiled.Cluster(n_workers = 10)"
   ]
  },
  {
   "cell_type": "code",
   "execution_count": null,
   "id": "28159750",
   "metadata": {},
   "outputs": [],
   "source": []
  },
  {
   "cell_type": "code",
   "execution_count": 8,
   "id": "295b52d5",
   "metadata": {},
   "outputs": [
    {
     "data": {
      "text/html": [
       "<table style=\"border: 2px solid white;\">\n",
       "<tr>\n",
       "<td style=\"vertical-align: top; border: 0px solid white\">\n",
       "<h3 style=\"text-align: left;\">Client</h3>\n",
       "<ul style=\"text-align: left; list-style: none; margin: 0; padding: 0;\">\n",
       "  <li><b>Scheduler: </b>inproc://172.16.31.96/13893/1</li>\n",
       "  <li><b>Dashboard: </b><a href='http://172.16.31.96:8787/status' target='_blank'>http://172.16.31.96:8787/status</a></li>\n",
       "</ul>\n",
       "</td>\n",
       "<td style=\"vertical-align: top; border: 0px solid white\">\n",
       "<h3 style=\"text-align: left;\">Cluster</h3>\n",
       "<ul style=\"text-align: left; list-style:none; margin: 0; padding: 0;\">\n",
       "  <li><b>Workers: </b>1</li>\n",
       "  <li><b>Cores: </b>4</li>\n",
       "  <li><b>Memory: </b>2.00 GB</li>\n",
       "</ul>\n",
       "</td>\n",
       "</tr>\n",
       "</table>"
      ],
      "text/plain": [
       "<Client: 'inproc://172.16.31.96/13893/1' processes=1 threads=4, memory=2.00 GB>"
      ]
     },
     "execution_count": 8,
     "metadata": {},
     "output_type": "execute_result"
    }
   ],
   "source": [
    "from dask.distributed import Client, progress\n",
    "client = Client(processes=False, threads_per_worker=4,\n",
    "                n_workers=1, memory_limit='2GB')\n",
    "client"
   ]
  },
  {
   "cell_type": "code",
   "execution_count": null,
   "id": "0839fefa",
   "metadata": {},
   "outputs": [],
   "source": [
    "from dask.distributed import client\n",
    "\n",
    "client = C"
   ]
  },
  {
   "cell_type": "code",
   "execution_count": 6,
   "id": "ebaf465b",
   "metadata": {},
   "outputs": [],
   "source": [
    "s3 = boto3.client(\"s3\")\n",
    "\n",
    "bucket = 'rec-gov-study'"
   ]
  },
  {
   "cell_type": "code",
   "execution_count": null,
   "id": "fa7167d5",
   "metadata": {},
   "outputs": [],
   "source": [
    "#define s3 location keys\n",
    "Campsites_API_file = 'data/Campsites_API_v1.csv'\n",
    "fy20_historical_reservations_file = 'data/fy20_historical_reservations_full.csv'\n",
    "\n",
    "#create df from reservation data on s3 bucket. \n",
    "#this is a large file and may take a few minutes\n",
    "boto_object = s3.get_object(Bucket=bucket, Key=fy20_historical_reservations_file)\n",
    "date_cols = ['startdate', 'enddate', 'orderdate']\n",
    "df_all_res = pd.read_csv(boto_object['Body'], parse_dates=date_cols, nrows=100000)\n",
    "\n",
    "print('dowloaded all reservation records from s3')\n",
    "\n",
    "#create df from campsite api data on s3 bucket.\n",
    "boto_object = s3.get_object(Bucket=bucket, Key=Campsites_API_file)\n",
    "df_campsite_api = pd.read_csv(boto_object['Body'])\n",
    "\n",
    "print('dowloaded campsite api from s3')\n",
    "\n",
    "#coerce dates for endate\n",
    "df_all_res['enddate'] = pd.to_datetime(df_all_res['enddate'], errors='coerce')"
   ]
  },
  {
   "cell_type": "code",
   "execution_count": null,
   "id": "0e185bf7",
   "metadata": {},
   "outputs": [],
   "source": [
    "#looking at the campsite api, how many campsites are at each facility\n",
    "df_facility_max = df_campsite_api.groupby('FacilityID')['CampsiteID'].count().reset_index()\n",
    "df_facility_max.columns = ['facilityid', 'total_num_campsites']\n",
    "\n",
    "print('created new facility max dataframe')\n",
    "\n",
    "\n",
    "#Identify what reservations are campsite related based on facility ID\n",
    "df_merge_all_data = pd.merge(df_all_res, df_facility_max, on='facilityid', how='left')\n",
    "df_merge_all_data['campsite'] = ~df_merge_all_data['total_num_campsites'].isnull()\n",
    "\n",
    "print('merged dataframes')\n",
    "\n",
    "ddf = dd.from_pandas(df_merge_all_data, npartitions=4)\n",
    "print('transformed into dask dataframe')\n"
   ]
  }
 ],
 "metadata": {
  "kernelspec": {
   "display_name": "conda_python3",
   "language": "python",
   "name": "conda_python3"
  },
  "language_info": {
   "codemirror_mode": {
    "name": "ipython",
    "version": 3
   },
   "file_extension": ".py",
   "mimetype": "text/x-python",
   "name": "python",
   "nbconvert_exporter": "python",
   "pygments_lexer": "ipython3",
   "version": "3.6.13"
  }
 },
 "nbformat": 4,
 "nbformat_minor": 5
}
