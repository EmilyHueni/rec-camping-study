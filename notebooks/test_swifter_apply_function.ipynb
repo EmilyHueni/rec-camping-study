{
 "cells": [
  {
   "cell_type": "code",
   "execution_count": null,
   "id": "fab0dc89-a1e7-49e5-8d0f-2f755d52673d",
   "metadata": {},
   "outputs": [],
   "source": [
    "import boto3\n",
    "import os\n",
    "import pandas as pd\n",
    "import swifter"
   ]
  },
  {
   "cell_type": "code",
   "execution_count": null,
   "id": "45638cb7-390c-4fa1-9eac-3f4ffe954c4d",
   "metadata": {},
   "outputs": [],
   "source": [
    "!pip install swifter"
   ]
  },
  {
   "cell_type": "code",
   "execution_count": null,
   "id": "783763c5-b9e2-4b01-803f-3327108573ac",
   "metadata": {},
   "outputs": [],
   "source": [
    "!pip install boto3"
   ]
  },
  {
   "cell_type": "code",
   "execution_count": null,
   "id": "a14a23b5-1b72-4dba-933f-f2686aca8db6",
   "metadata": {},
   "outputs": [],
   "source": [
    "s3 = boto3.client(\"s3\")\n",
    "\n",
    "bucket = 'rec-gov-study'\n",
    "file = 'data/df_merge_all_data_camping_unique_facil_start_end.csv'\n",
    "\n",
    "date_cols = ['startdate', 'enddate', 'orderdate']\n",
    "\n",
    "boto_object = s3.get_object(Bucket=bucket, Key=file)\n",
    "df = pd.read_csv(boto_object['Body'], parse_dates=date_cols, nrows=300000)\n",
    "\n",
    "df['enddate'] = pd.to_datetime(df['enddate'], errors='coerce')"
   ]
  },
  {
   "cell_type": "code",
   "execution_count": null,
   "id": "de5c1d20-fc95-41b3-a0e8-485fbe4923a4",
   "metadata": {},
   "outputs": [],
   "source": [
    "df.info()"
   ]
  },
  {
   "cell_type": "code",
   "execution_count": null,
   "id": "30948eb5-e335-41f7-a829-d8c8e28f4a66",
   "metadata": {},
   "outputs": [],
   "source": [
    "def reservations_likely_canceled(row):\n",
    "    '''if there is another reservation made at a later date that has the same facility and \n",
    "    productuctid and is within the same reservation date block (between start and end) then \n",
    "    consider this one to be a likely canceled one.'''\n",
    "    \n",
    "    \n",
    "    facil = row['facilityid']\n",
    "    campsite = row['productid']\n",
    "    sdate = row['startdate']\n",
    "    edate = row['enddate']\n",
    "    odate = row['orderdate']\n",
    "    \n",
    "    \n",
    "    #select all rows where the start date is after and facil and campsite number are the same\n",
    "    #(StartA <= EndB) and (EndA >= StartB)\n",
    "    df_other_res = df[(df['facilityid']==facil) & \n",
    "                  (df['productid']==campsite) & \n",
    "                  (df['startdate']<=edate) &\n",
    "                  (df['enddate']>=sdate) &\n",
    "                  (df['orderdate']>odate)]\n",
    "    \n",
    "    if df_other_res.empty:\n",
    "        return False\n",
    "    else:\n",
    "        return True"
   ]
  },
  {
   "cell_type": "code",
   "execution_count": null,
   "id": "d4623a98-09cb-49de-880e-7eb986d206cc",
   "metadata": {},
   "outputs": [],
   "source": [
    "%%time\n",
    "df['cancelation_likely'] = df.swifter.apply(reservations_likely_canceled, axis=1)"
   ]
  }
 ],
 "metadata": {
  "kernelspec": {
   "display_name": "Python 3",
   "language": "python",
   "name": "python3"
  },
  "language_info": {
   "codemirror_mode": {
    "name": "ipython",
    "version": 3
   },
   "file_extension": ".py",
   "mimetype": "text/x-python",
   "name": "python",
   "nbconvert_exporter": "python",
   "pygments_lexer": "ipython3",
   "version": "3.8.8"
  }
 },
 "nbformat": 4,
 "nbformat_minor": 5
}
